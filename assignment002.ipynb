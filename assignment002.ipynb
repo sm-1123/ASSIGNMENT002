{
 "cells": [
  {
   "cell_type": "code",
   "execution_count": 1,
   "id": "d90043f2-3117-4313-b0fd-a869445b140c",
   "metadata": {
    "tags": []
   },
   "outputs": [],
   "source": [
    "#Q1. Which keyword is used to create a function? Create a function to return a list of odd numbers in the\n",
    "#range of 1 to 25."
   ]
  },
  {
   "cell_type": "code",
   "execution_count": 2,
   "id": "636c27f7-19e9-47b9-be65-f0773727165f",
   "metadata": {},
   "outputs": [
    {
     "data": {
      "text/plain": [
       "'Python def keyword .'"
      ]
     },
     "execution_count": 2,
     "metadata": {},
     "output_type": "execute_result"
    }
   ],
   "source": [
    "'''Python def keyword .'''"
   ]
  },
  {
   "cell_type": "code",
   "execution_count": 4,
   "id": "a8106c6d-83a1-4350-a4a7-e768dddc8bb0",
   "metadata": {},
   "outputs": [
    {
     "name": "stdout",
     "output_type": "stream",
     "text": [
      "[1, 3, 5, 7, 9, 11, 13, 15, 17, 19, 21, 23, 25]\n"
     ]
    }
   ],
   "source": [
    "def odd_numbers(n):\n",
    "\treturn [x for x in range(0, n+1) if x%2 != 0]\n",
    "print(odd_numbers(25)) "
   ]
  },
  {
   "cell_type": "code",
   "execution_count": 5,
   "id": "b31fa053-2a2d-415b-88cb-caf8336b7dde",
   "metadata": {},
   "outputs": [],
   "source": [
    "#Q2. Why *args and **kwargs is used in some functions? Create a function each for *args and **kwargs\n",
    "#to demonstrate their use."
   ]
  },
  {
   "cell_type": "code",
   "execution_count": 6,
   "id": "3049ebe9-f14e-4341-831e-e95d0e105a11",
   "metadata": {},
   "outputs": [
    {
     "data": {
      "text/plain": [
       "'*args and **kwargs are special syntax that are used in functions to pass a variable number of arguments \\nto a function. *args occur before **kwargs in a function definition. *args and **kwargs are best used in \\nsituations where the number of inputs will remain relatively small.'"
      ]
     },
     "execution_count": 6,
     "metadata": {},
     "output_type": "execute_result"
    }
   ],
   "source": [
    "'''*args and **kwargs are special syntax that are used in functions to pass a variable number of arguments \n",
    "to a function. *args occur before **kwargs in a function definition. *args and **kwargs are best used in \n",
    "situations where the number of inputs will remain relatively small.'''\n"
   ]
  },
  {
   "cell_type": "code",
   "execution_count": 1,
   "id": "277eeb4b-f1fe-42b9-9e8d-8d0857f796b1",
   "metadata": {},
   "outputs": [
    {
     "name": "stdout",
     "output_type": "stream",
     "text": [
      "5\n",
      "10\n",
      "17\n",
      "26\n"
     ]
    }
   ],
   "source": [
    "def add(*numbers):\n",
    "    total = 0\n",
    "    for num in numbers:\n",
    "        total += num\n",
    "    return total\n",
    "\n",
    "\n",
    "print(add(2, 3))\n",
    "print(add(2, 3, 5))\n",
    "print(add(2, 3, 5, 7))\n",
    "print(add(2, 3, 5, 7, 9))"
   ]
  },
  {
   "cell_type": "code",
   "execution_count": 2,
   "id": "e8ff440f-c94b-410f-9e13-fd9e8f05c647",
   "metadata": {},
   "outputs": [
    {
     "name": "stdout",
     "output_type": "stream",
     "text": [
      "20\n",
      "30\n",
      "12\n"
     ]
    }
   ],
   "source": [
    "def total_fruits(**fruits):\n",
    "    total = 0\n",
    "    for amount in fruits.values():\n",
    "        total += amount\n",
    "    return total\n",
    "\n",
    "\n",
    "print(total_fruits(banana=5, mango=7, apple=8))\n",
    "print(total_fruits(banana=5, mango=7, apple=8, oranges=10))\n",
    "print(total_fruits(banana=5, mango=7))"
   ]
  },
  {
   "cell_type": "code",
   "execution_count": 1,
   "id": "da38c5d6-a95b-401c-b3c2-4db724bfae1c",
   "metadata": {},
   "outputs": [],
   "source": [
    "#Q3-What is an iterator in python? Name the method used to initialise the iterator object and the method\n",
    "#used for iteration. Use these methods to print the first five elements of the given list [2, 4, 6, 8, 10, 12, 14,\n",
    "#16, 18, 20]."
   ]
  },
  {
   "cell_type": "code",
   "execution_count": 2,
   "id": "ea6b1b80-c736-4136-ab04-a31bd1b0f410",
   "metadata": {},
   "outputs": [
    {
     "data": {
      "text/plain": [
       "'Technically, in Python, an iterator is an object which implements the iterator protocol, which consist of the methods __iter__() and __next__().'"
      ]
     },
     "execution_count": 2,
     "metadata": {},
     "output_type": "execute_result"
    }
   ],
   "source": [
    "'''Technically, in Python, an iterator is an object which implements the iterator protocol, which consist of the methods __iter__() and __next__().'''"
   ]
  },
  {
   "cell_type": "code",
   "execution_count": 3,
   "id": "33552fa3-72db-4416-b0aa-64ab60032612",
   "metadata": {},
   "outputs": [
    {
     "data": {
      "text/plain": [
       "' __iter__() and __next__().'"
      ]
     },
     "execution_count": 3,
     "metadata": {},
     "output_type": "execute_result"
    }
   ],
   "source": [
    "''' __iter__() and __next__().'''"
   ]
  },
  {
   "cell_type": "code",
   "execution_count": 4,
   "id": "8295857a-9fc3-409e-b779-249e85213ffc",
   "metadata": {},
   "outputs": [
    {
     "name": "stdout",
     "output_type": "stream",
     "text": [
      "2\n",
      "4\n",
      "6\n",
      "8\n",
      "10\n"
     ]
    }
   ],
   "source": [
    "import itertools\n",
    "\n",
    "n = 5\n",
    "mylist = [2, 4, 6, 8, 10, 12, 14, 16, 18,20]\n",
    "for item in itertools.islice(mylist, n):\n",
    "    print(item)"
   ]
  },
  {
   "cell_type": "code",
   "execution_count": 5,
   "id": "97ddb172-bdf1-4de7-84c0-340a52b6da7f",
   "metadata": {},
   "outputs": [],
   "source": [
    "#Q4-Q4. What is a generator function in python? Why yield keyword is used? Give an example of a generator\n",
    "#function."
   ]
  },
  {
   "cell_type": "code",
   "execution_count": 2,
   "id": "ebd30ad7-4a47-4467-a344-599cd0344a19",
   "metadata": {},
   "outputs": [],
   "source": [
    "#ANS--A generator-function is defined like a normal function, but whenever it needs to generate a value, \n",
    "#it does so with the yield keyword rather than return. If the body of a def contains yield, the function \n",
    "#automatically becomes a generator function."
   ]
  },
  {
   "cell_type": "code",
   "execution_count": 3,
   "id": "5b1fd513-77a6-4119-9411-8213c0b0d1a3",
   "metadata": {},
   "outputs": [],
   "source": [
    "#ANS--The yield statement suspends a function’s execution and sends a value back to the caller, \n",
    "#but retains enough state to enable the function to resume where it left off. When the function resumes, \n",
    "#it continues execution immediately after the last yield run. This allows its code to produce a series of values \n",
    "#over time, rather than computing them at once and sending them back like a list."
   ]
  },
  {
   "cell_type": "code",
   "execution_count": 4,
   "id": "0d1812be-bc75-4eba-a113-45079414f7a2",
   "metadata": {},
   "outputs": [
    {
     "name": "stdout",
     "output_type": "stream",
     "text": [
      "0\n",
      "1\n",
      "4\n",
      "9\n",
      "16\n",
      "25\n",
      "36\n",
      "49\n",
      "64\n",
      "81\n"
     ]
    }
   ],
   "source": [
    "generator = (num ** 2 for num in range(10))\n",
    "for num in generator:\n",
    "    print(num)"
   ]
  },
  {
   "cell_type": "code",
   "execution_count": 5,
   "id": "389545b8-52a1-49a3-99d0-8eb5cfce9a22",
   "metadata": {},
   "outputs": [],
   "source": [
    "#Q--Q5. Create a generator function for prime numbers less than 1000. Use the next() method to print the\n",
    "#first 20 prime numbers."
   ]
  },
  {
   "cell_type": "code",
   "execution_count": 6,
   "id": "9a90cc7b-cc9a-445a-a7bf-de2d88648ff9",
   "metadata": {},
   "outputs": [],
   "source": [
    "#\n",
    "#\n",
    "#"
   ]
  },
  {
   "cell_type": "code",
   "execution_count": 7,
   "id": "0cd572ea-9086-4c3e-b719-46d9485381d2",
   "metadata": {},
   "outputs": [],
   "source": [
    "#Q6. Write a python program to print the first 10 Fibonacci numbers using a while loop."
   ]
  },
  {
   "cell_type": "code",
   "execution_count": 10,
   "id": "0879e1b1-77aa-434d-9a72-e3fdf6c20eab",
   "metadata": {},
   "outputs": [
    {
     "name": "stdin",
     "output_type": "stream",
     "text": [
      "Enter number of terms:  10\n"
     ]
    },
    {
     "name": "stdout",
     "output_type": "stream",
     "text": [
      "Fibonacci sequence:\n",
      "0\n",
      "1\n",
      "1\n",
      "2\n",
      "3\n",
      "5\n",
      "8\n",
      "13\n",
      "21\n",
      "34\n"
     ]
    }
   ],
   "source": [
    "n = int(input(\"Enter number of terms: \"))\n",
    "n1, n2 = 0, 1 \n",
    "i = 0\n",
    "\n",
    "if n <= 0:\n",
    "  print(\"Please enter a positive integer\")\n",
    "elif n == 1:\n",
    "  print(\"Fibonacci sequence upto\",n,\":\")\n",
    "  print(n1)\n",
    "else:\n",
    "  print(\"Fibonacci sequence:\")\n",
    "  while(i<n): \n",
    "      print(n1)\n",
    "      sum = n1 + n2\n",
    "      n1 = n2\n",
    "      n2 = sum\n",
    "      i += 1"
   ]
  },
  {
   "cell_type": "code",
   "execution_count": 9,
   "id": "1486f6da-0e4c-4dc2-84ed-2b6f48b30e9f",
   "metadata": {},
   "outputs": [],
   "source": [
    "#Q7. Write a List Comprehension to iterate through the given string: ‘pwskills’.\n",
    "#Expected output: ['p', 'w', 's', 'k', 'i', 'l', 'l', 's']"
   ]
  },
  {
   "cell_type": "code",
   "execution_count": 12,
   "id": "829d76cb-070e-4a88-9295-d1ecd294e1bf",
   "metadata": {},
   "outputs": [
    {
     "name": "stdout",
     "output_type": "stream",
     "text": [
      "['p', 'w', 's', 'k', 'i', 'l', 'l', 's']\n"
     ]
    }
   ],
   "source": [
    "List = []\n",
    " \n",
    "for character in 'pwskills':\n",
    "    List.append(character)\n",
    " \n",
    "print(List)"
   ]
  },
  {
   "cell_type": "code",
   "execution_count": 13,
   "id": "ff56d49e-181c-426c-a1dc-cc54ca04bbd3",
   "metadata": {},
   "outputs": [],
   "source": [
    "#Q8. Write a python program to check whether a given number is Palindrome or not using a while loop."
   ]
  },
  {
   "cell_type": "code",
   "execution_count": 14,
   "id": "c3cfb089-ddc4-4cbe-96b8-2a40a7ef17a9",
   "metadata": {},
   "outputs": [
    {
     "name": "stdin",
     "output_type": "stream",
     "text": [
      "Enter the number:  55\n"
     ]
    },
    {
     "name": "stdout",
     "output_type": "stream",
     "text": [
      "55 is a Palindrome\n"
     ]
    }
   ],
   "source": [
    "num = int(input('Enter the number: '))\n",
    "\n",
    "reverse = 0\n",
    "number = num\n",
    "while(num != 0):\n",
    "   remainder = num % 10\n",
    "   reverse = reverse * 10 + remainder\n",
    "   num = int(num / 10)\n",
    "\n",
    "if(number == reverse):\n",
    "   print(number,'is a Palindrome')\n",
    "else:\n",
    "   print(number,'is not a Palindrome')"
   ]
  },
  {
   "cell_type": "code",
   "execution_count": 15,
   "id": "ffa8dcc4-e2bb-4e83-8199-2ea6d9bba0aa",
   "metadata": {},
   "outputs": [],
   "source": [
    "#Q9. Write a code to print odd numbers from 1 to 100 using list comprehension.\n",
    "#Note: Use a list comprehension to create a list from 1 to 100 and use another List comprehension to filter\n",
    "#out odd numbers."
   ]
  },
  {
   "cell_type": "code",
   "execution_count": 16,
   "id": "87d3534e-0de2-4e3e-85ff-471c5164d4eb",
   "metadata": {},
   "outputs": [],
   "source": [
    "def odd_numbers(n):\n",
    "    return [x for x in range(0, n+1) if x%2 != 0]"
   ]
  },
  {
   "cell_type": "code",
   "execution_count": null,
   "id": "dca2a7f8-ec64-41d2-a24d-832f9e1d9c80",
   "metadata": {},
   "outputs": [
    {
     "data": {
      "text/plain": [
       "[1,\n",
       " 3,\n",
       " 5,\n",
       " 7,\n",
       " 9,\n",
       " 11,\n",
       " 13,\n",
       " 15,\n",
       " 17,\n",
       " 19,\n",
       " 21,\n",
       " 23,\n",
       " 25,\n",
       " 27,\n",
       " 29,\n",
       " 31,\n",
       " 33,\n",
       " 35,\n",
       " 37,\n",
       " 39,\n",
       " 41,\n",
       " 43,\n",
       " 45,\n",
       " 47,\n",
       " 49,\n",
       " 51,\n",
       " 53,\n",
       " 55,\n",
       " 57,\n",
       " 59,\n",
       " 61,\n",
       " 63,\n",
       " 65,\n",
       " 67,\n",
       " 69,\n",
       " 71,\n",
       " 73,\n",
       " 75,\n",
       " 77,\n",
       " 79,\n",
       " 81,\n",
       " 83,\n",
       " 85,\n",
       " 87,\n",
       " 89,\n",
       " 91,\n",
       " 93,\n",
       " 95,\n",
       " 97,\n",
       " 99]"
      ]
     },
     "execution_count": 17,
     "metadata": {},
     "output_type": "execute_result"
    }
   ],
   "source": [
    "odd_numbers(100)"
   ]
  }
 ],
 "metadata": {
  "kernelspec": {
   "display_name": "Python 3 (ipykernel)",
   "language": "python",
   "name": "python3"
  },
  "language_info": {
   "codemirror_mode": {
    "name": "ipython",
    "version": 3
   },
   "file_extension": ".py",
   "mimetype": "text/x-python",
   "name": "python",
   "nbconvert_exporter": "python",
   "pygments_lexer": "ipython3",
   "version": "3.10.8"
  }
 },
 "nbformat": 4,
 "nbformat_minor": 5
}
